{
 "cells": [
  {
   "cell_type": "markdown",
   "id": "9c9186d4-ac32-46ab-ad92-56b976a39879",
   "metadata": {},
   "source": [
    "### Goal: the company wants to understand the driving factors (or driver variables) behind loan default, i.e. the variables which are strong indicators of default.  The company can utilise this knowledge for its portfolio and risk assessment. "
   ]
  },
  {
   "cell_type": "code",
   "execution_count": 138,
   "id": "4a3539b1-26f8-49eb-9681-582c05e54770",
   "metadata": {},
   "outputs": [],
   "source": [
    "import pandas as pd\n",
    "import numpy as np\n",
    "import seaborn as sns\n",
    "import matplotlib.pyplot as plt\n",
    "from datetime import datetime"
   ]
  },
  {
   "cell_type": "code",
   "execution_count": 139,
   "id": "dc65e3ab-efe8-4f88-bae8-492a79f7bbc0",
   "metadata": {},
   "outputs": [
    {
     "name": "stderr",
     "output_type": "stream",
     "text": [
      "/var/folders/5z/bffwp3vj43vd66xms_0hx1s40000gp/T/ipykernel_38548/1429014459.py:1: DtypeWarning: Columns (47) have mixed types. Specify dtype option on import or set low_memory=False.\n",
      "  loan_df = pd.read_csv(\"loan.csv\")\n"
     ]
    }
   ],
   "source": [
    "loan_df = pd.read_csv(\"loan.csv\")"
   ]
  },
  {
   "cell_type": "markdown",
   "id": "f258a9b6-df2e-43d3-a134-27e8e5bba857",
   "metadata": {},
   "source": [
    "#### Lets take a look at the data"
   ]
  },
  {
   "cell_type": "code",
   "execution_count": 140,
   "id": "97fa9b64-5968-436b-a58a-984fcf5e382f",
   "metadata": {
    "scrolled": true
   },
   "outputs": [
    {
     "name": "stdout",
     "output_type": "stream",
     "text": [
      "<class 'pandas.core.frame.DataFrame'>\n",
      "RangeIndex: 39717 entries, 0 to 39716\n",
      "Data columns (total 111 columns):\n",
      " #    Column                          Dtype  \n",
      "---   ------                          -----  \n",
      " 0    id                              int64  \n",
      " 1    member_id                       int64  \n",
      " 2    loan_amnt                       int64  \n",
      " 3    funded_amnt                     int64  \n",
      " 4    funded_amnt_inv                 float64\n",
      " 5    term                            object \n",
      " 6    int_rate                        object \n",
      " 7    installment                     float64\n",
      " 8    grade                           object \n",
      " 9    sub_grade                       object \n",
      " 10   emp_title                       object \n",
      " 11   emp_length                      object \n",
      " 12   home_ownership                  object \n",
      " 13   annual_inc                      float64\n",
      " 14   verification_status             object \n",
      " 15   issue_d                         object \n",
      " 16   loan_status                     object \n",
      " 17   pymnt_plan                      object \n",
      " 18   url                             object \n",
      " 19   desc                            object \n",
      " 20   purpose                         object \n",
      " 21   title                           object \n",
      " 22   zip_code                        object \n",
      " 23   addr_state                      object \n",
      " 24   dti                             float64\n",
      " 25   delinq_2yrs                     int64  \n",
      " 26   earliest_cr_line                object \n",
      " 27   inq_last_6mths                  int64  \n",
      " 28   mths_since_last_delinq          float64\n",
      " 29   mths_since_last_record          float64\n",
      " 30   open_acc                        int64  \n",
      " 31   pub_rec                         int64  \n",
      " 32   revol_bal                       int64  \n",
      " 33   revol_util                      object \n",
      " 34   total_acc                       int64  \n",
      " 35   initial_list_status             object \n",
      " 36   out_prncp                       float64\n",
      " 37   out_prncp_inv                   float64\n",
      " 38   total_pymnt                     float64\n",
      " 39   total_pymnt_inv                 float64\n",
      " 40   total_rec_prncp                 float64\n",
      " 41   total_rec_int                   float64\n",
      " 42   total_rec_late_fee              float64\n",
      " 43   recoveries                      float64\n",
      " 44   collection_recovery_fee         float64\n",
      " 45   last_pymnt_d                    object \n",
      " 46   last_pymnt_amnt                 float64\n",
      " 47   next_pymnt_d                    object \n",
      " 48   last_credit_pull_d              object \n",
      " 49   collections_12_mths_ex_med      float64\n",
      " 50   mths_since_last_major_derog     float64\n",
      " 51   policy_code                     int64  \n",
      " 52   application_type                object \n",
      " 53   annual_inc_joint                float64\n",
      " 54   dti_joint                       float64\n",
      " 55   verification_status_joint       float64\n",
      " 56   acc_now_delinq                  int64  \n",
      " 57   tot_coll_amt                    float64\n",
      " 58   tot_cur_bal                     float64\n",
      " 59   open_acc_6m                     float64\n",
      " 60   open_il_6m                      float64\n",
      " 61   open_il_12m                     float64\n",
      " 62   open_il_24m                     float64\n",
      " 63   mths_since_rcnt_il              float64\n",
      " 64   total_bal_il                    float64\n",
      " 65   il_util                         float64\n",
      " 66   open_rv_12m                     float64\n",
      " 67   open_rv_24m                     float64\n",
      " 68   max_bal_bc                      float64\n",
      " 69   all_util                        float64\n",
      " 70   total_rev_hi_lim                float64\n",
      " 71   inq_fi                          float64\n",
      " 72   total_cu_tl                     float64\n",
      " 73   inq_last_12m                    float64\n",
      " 74   acc_open_past_24mths            float64\n",
      " 75   avg_cur_bal                     float64\n",
      " 76   bc_open_to_buy                  float64\n",
      " 77   bc_util                         float64\n",
      " 78   chargeoff_within_12_mths        float64\n",
      " 79   delinq_amnt                     int64  \n",
      " 80   mo_sin_old_il_acct              float64\n",
      " 81   mo_sin_old_rev_tl_op            float64\n",
      " 82   mo_sin_rcnt_rev_tl_op           float64\n",
      " 83   mo_sin_rcnt_tl                  float64\n",
      " 84   mort_acc                        float64\n",
      " 85   mths_since_recent_bc            float64\n",
      " 86   mths_since_recent_bc_dlq        float64\n",
      " 87   mths_since_recent_inq           float64\n",
      " 88   mths_since_recent_revol_delinq  float64\n",
      " 89   num_accts_ever_120_pd           float64\n",
      " 90   num_actv_bc_tl                  float64\n",
      " 91   num_actv_rev_tl                 float64\n",
      " 92   num_bc_sats                     float64\n",
      " 93   num_bc_tl                       float64\n",
      " 94   num_il_tl                       float64\n",
      " 95   num_op_rev_tl                   float64\n",
      " 96   num_rev_accts                   float64\n",
      " 97   num_rev_tl_bal_gt_0             float64\n",
      " 98   num_sats                        float64\n",
      " 99   num_tl_120dpd_2m                float64\n",
      " 100  num_tl_30dpd                    float64\n",
      " 101  num_tl_90g_dpd_24m              float64\n",
      " 102  num_tl_op_past_12m              float64\n",
      " 103  pct_tl_nvr_dlq                  float64\n",
      " 104  percent_bc_gt_75                float64\n",
      " 105  pub_rec_bankruptcies            float64\n",
      " 106  tax_liens                       float64\n",
      " 107  tot_hi_cred_lim                 float64\n",
      " 108  total_bal_ex_mort               float64\n",
      " 109  total_bc_limit                  float64\n",
      " 110  total_il_high_credit_limit      float64\n",
      "dtypes: float64(74), int64(13), object(24)\n",
      "memory usage: 33.6+ MB\n"
     ]
    }
   ],
   "source": [
    "loan_df.info(verbose=True)"
   ]
  },
  {
   "cell_type": "code",
   "execution_count": 141,
   "id": "32d709b8-2b9b-4a4b-971a-de37a970dc37",
   "metadata": {},
   "outputs": [
    {
     "data": {
      "text/html": [
       "<div>\n",
       "<style scoped>\n",
       "    .dataframe tbody tr th:only-of-type {\n",
       "        vertical-align: middle;\n",
       "    }\n",
       "\n",
       "    .dataframe tbody tr th {\n",
       "        vertical-align: top;\n",
       "    }\n",
       "\n",
       "    .dataframe thead th {\n",
       "        text-align: right;\n",
       "    }\n",
       "</style>\n",
       "<table border=\"1\" class=\"dataframe\">\n",
       "  <thead>\n",
       "    <tr style=\"text-align: right;\">\n",
       "      <th></th>\n",
       "      <th>id</th>\n",
       "      <th>member_id</th>\n",
       "      <th>loan_amnt</th>\n",
       "      <th>funded_amnt</th>\n",
       "      <th>funded_amnt_inv</th>\n",
       "      <th>installment</th>\n",
       "      <th>annual_inc</th>\n",
       "      <th>dti</th>\n",
       "      <th>delinq_2yrs</th>\n",
       "      <th>inq_last_6mths</th>\n",
       "      <th>...</th>\n",
       "      <th>num_tl_90g_dpd_24m</th>\n",
       "      <th>num_tl_op_past_12m</th>\n",
       "      <th>pct_tl_nvr_dlq</th>\n",
       "      <th>percent_bc_gt_75</th>\n",
       "      <th>pub_rec_bankruptcies</th>\n",
       "      <th>tax_liens</th>\n",
       "      <th>tot_hi_cred_lim</th>\n",
       "      <th>total_bal_ex_mort</th>\n",
       "      <th>total_bc_limit</th>\n",
       "      <th>total_il_high_credit_limit</th>\n",
       "    </tr>\n",
       "  </thead>\n",
       "  <tbody>\n",
       "    <tr>\n",
       "      <th>count</th>\n",
       "      <td>3.971700e+04</td>\n",
       "      <td>3.971700e+04</td>\n",
       "      <td>39717.000000</td>\n",
       "      <td>39717.000000</td>\n",
       "      <td>39717.000000</td>\n",
       "      <td>39717.000000</td>\n",
       "      <td>3.971700e+04</td>\n",
       "      <td>39717.000000</td>\n",
       "      <td>39717.000000</td>\n",
       "      <td>39717.000000</td>\n",
       "      <td>...</td>\n",
       "      <td>0.0</td>\n",
       "      <td>0.0</td>\n",
       "      <td>0.0</td>\n",
       "      <td>0.0</td>\n",
       "      <td>39020.000000</td>\n",
       "      <td>39678.0</td>\n",
       "      <td>0.0</td>\n",
       "      <td>0.0</td>\n",
       "      <td>0.0</td>\n",
       "      <td>0.0</td>\n",
       "    </tr>\n",
       "    <tr>\n",
       "      <th>mean</th>\n",
       "      <td>6.831319e+05</td>\n",
       "      <td>8.504636e+05</td>\n",
       "      <td>11219.443815</td>\n",
       "      <td>10947.713196</td>\n",
       "      <td>10397.448868</td>\n",
       "      <td>324.561922</td>\n",
       "      <td>6.896893e+04</td>\n",
       "      <td>13.315130</td>\n",
       "      <td>0.146512</td>\n",
       "      <td>0.869200</td>\n",
       "      <td>...</td>\n",
       "      <td>NaN</td>\n",
       "      <td>NaN</td>\n",
       "      <td>NaN</td>\n",
       "      <td>NaN</td>\n",
       "      <td>0.043260</td>\n",
       "      <td>0.0</td>\n",
       "      <td>NaN</td>\n",
       "      <td>NaN</td>\n",
       "      <td>NaN</td>\n",
       "      <td>NaN</td>\n",
       "    </tr>\n",
       "    <tr>\n",
       "      <th>std</th>\n",
       "      <td>2.106941e+05</td>\n",
       "      <td>2.656783e+05</td>\n",
       "      <td>7456.670694</td>\n",
       "      <td>7187.238670</td>\n",
       "      <td>7128.450439</td>\n",
       "      <td>208.874874</td>\n",
       "      <td>6.379377e+04</td>\n",
       "      <td>6.678594</td>\n",
       "      <td>0.491812</td>\n",
       "      <td>1.070219</td>\n",
       "      <td>...</td>\n",
       "      <td>NaN</td>\n",
       "      <td>NaN</td>\n",
       "      <td>NaN</td>\n",
       "      <td>NaN</td>\n",
       "      <td>0.204324</td>\n",
       "      <td>0.0</td>\n",
       "      <td>NaN</td>\n",
       "      <td>NaN</td>\n",
       "      <td>NaN</td>\n",
       "      <td>NaN</td>\n",
       "    </tr>\n",
       "    <tr>\n",
       "      <th>min</th>\n",
       "      <td>5.473400e+04</td>\n",
       "      <td>7.069900e+04</td>\n",
       "      <td>500.000000</td>\n",
       "      <td>500.000000</td>\n",
       "      <td>0.000000</td>\n",
       "      <td>15.690000</td>\n",
       "      <td>4.000000e+03</td>\n",
       "      <td>0.000000</td>\n",
       "      <td>0.000000</td>\n",
       "      <td>0.000000</td>\n",
       "      <td>...</td>\n",
       "      <td>NaN</td>\n",
       "      <td>NaN</td>\n",
       "      <td>NaN</td>\n",
       "      <td>NaN</td>\n",
       "      <td>0.000000</td>\n",
       "      <td>0.0</td>\n",
       "      <td>NaN</td>\n",
       "      <td>NaN</td>\n",
       "      <td>NaN</td>\n",
       "      <td>NaN</td>\n",
       "    </tr>\n",
       "    <tr>\n",
       "      <th>25%</th>\n",
       "      <td>5.162210e+05</td>\n",
       "      <td>6.667800e+05</td>\n",
       "      <td>5500.000000</td>\n",
       "      <td>5400.000000</td>\n",
       "      <td>5000.000000</td>\n",
       "      <td>167.020000</td>\n",
       "      <td>4.040400e+04</td>\n",
       "      <td>8.170000</td>\n",
       "      <td>0.000000</td>\n",
       "      <td>0.000000</td>\n",
       "      <td>...</td>\n",
       "      <td>NaN</td>\n",
       "      <td>NaN</td>\n",
       "      <td>NaN</td>\n",
       "      <td>NaN</td>\n",
       "      <td>0.000000</td>\n",
       "      <td>0.0</td>\n",
       "      <td>NaN</td>\n",
       "      <td>NaN</td>\n",
       "      <td>NaN</td>\n",
       "      <td>NaN</td>\n",
       "    </tr>\n",
       "    <tr>\n",
       "      <th>50%</th>\n",
       "      <td>6.656650e+05</td>\n",
       "      <td>8.508120e+05</td>\n",
       "      <td>10000.000000</td>\n",
       "      <td>9600.000000</td>\n",
       "      <td>8975.000000</td>\n",
       "      <td>280.220000</td>\n",
       "      <td>5.900000e+04</td>\n",
       "      <td>13.400000</td>\n",
       "      <td>0.000000</td>\n",
       "      <td>1.000000</td>\n",
       "      <td>...</td>\n",
       "      <td>NaN</td>\n",
       "      <td>NaN</td>\n",
       "      <td>NaN</td>\n",
       "      <td>NaN</td>\n",
       "      <td>0.000000</td>\n",
       "      <td>0.0</td>\n",
       "      <td>NaN</td>\n",
       "      <td>NaN</td>\n",
       "      <td>NaN</td>\n",
       "      <td>NaN</td>\n",
       "    </tr>\n",
       "    <tr>\n",
       "      <th>75%</th>\n",
       "      <td>8.377550e+05</td>\n",
       "      <td>1.047339e+06</td>\n",
       "      <td>15000.000000</td>\n",
       "      <td>15000.000000</td>\n",
       "      <td>14400.000000</td>\n",
       "      <td>430.780000</td>\n",
       "      <td>8.230000e+04</td>\n",
       "      <td>18.600000</td>\n",
       "      <td>0.000000</td>\n",
       "      <td>1.000000</td>\n",
       "      <td>...</td>\n",
       "      <td>NaN</td>\n",
       "      <td>NaN</td>\n",
       "      <td>NaN</td>\n",
       "      <td>NaN</td>\n",
       "      <td>0.000000</td>\n",
       "      <td>0.0</td>\n",
       "      <td>NaN</td>\n",
       "      <td>NaN</td>\n",
       "      <td>NaN</td>\n",
       "      <td>NaN</td>\n",
       "    </tr>\n",
       "    <tr>\n",
       "      <th>max</th>\n",
       "      <td>1.077501e+06</td>\n",
       "      <td>1.314167e+06</td>\n",
       "      <td>35000.000000</td>\n",
       "      <td>35000.000000</td>\n",
       "      <td>35000.000000</td>\n",
       "      <td>1305.190000</td>\n",
       "      <td>6.000000e+06</td>\n",
       "      <td>29.990000</td>\n",
       "      <td>11.000000</td>\n",
       "      <td>8.000000</td>\n",
       "      <td>...</td>\n",
       "      <td>NaN</td>\n",
       "      <td>NaN</td>\n",
       "      <td>NaN</td>\n",
       "      <td>NaN</td>\n",
       "      <td>2.000000</td>\n",
       "      <td>0.0</td>\n",
       "      <td>NaN</td>\n",
       "      <td>NaN</td>\n",
       "      <td>NaN</td>\n",
       "      <td>NaN</td>\n",
       "    </tr>\n",
       "  </tbody>\n",
       "</table>\n",
       "<p>8 rows × 87 columns</p>\n",
       "</div>"
      ],
      "text/plain": [
       "                 id     member_id     loan_amnt   funded_amnt  \\\n",
       "count  3.971700e+04  3.971700e+04  39717.000000  39717.000000   \n",
       "mean   6.831319e+05  8.504636e+05  11219.443815  10947.713196   \n",
       "std    2.106941e+05  2.656783e+05   7456.670694   7187.238670   \n",
       "min    5.473400e+04  7.069900e+04    500.000000    500.000000   \n",
       "25%    5.162210e+05  6.667800e+05   5500.000000   5400.000000   \n",
       "50%    6.656650e+05  8.508120e+05  10000.000000   9600.000000   \n",
       "75%    8.377550e+05  1.047339e+06  15000.000000  15000.000000   \n",
       "max    1.077501e+06  1.314167e+06  35000.000000  35000.000000   \n",
       "\n",
       "       funded_amnt_inv   installment    annual_inc           dti  \\\n",
       "count     39717.000000  39717.000000  3.971700e+04  39717.000000   \n",
       "mean      10397.448868    324.561922  6.896893e+04     13.315130   \n",
       "std        7128.450439    208.874874  6.379377e+04      6.678594   \n",
       "min           0.000000     15.690000  4.000000e+03      0.000000   \n",
       "25%        5000.000000    167.020000  4.040400e+04      8.170000   \n",
       "50%        8975.000000    280.220000  5.900000e+04     13.400000   \n",
       "75%       14400.000000    430.780000  8.230000e+04     18.600000   \n",
       "max       35000.000000   1305.190000  6.000000e+06     29.990000   \n",
       "\n",
       "        delinq_2yrs  inq_last_6mths  ...  num_tl_90g_dpd_24m  \\\n",
       "count  39717.000000    39717.000000  ...                 0.0   \n",
       "mean       0.146512        0.869200  ...                 NaN   \n",
       "std        0.491812        1.070219  ...                 NaN   \n",
       "min        0.000000        0.000000  ...                 NaN   \n",
       "25%        0.000000        0.000000  ...                 NaN   \n",
       "50%        0.000000        1.000000  ...                 NaN   \n",
       "75%        0.000000        1.000000  ...                 NaN   \n",
       "max       11.000000        8.000000  ...                 NaN   \n",
       "\n",
       "       num_tl_op_past_12m  pct_tl_nvr_dlq  percent_bc_gt_75  \\\n",
       "count                 0.0             0.0               0.0   \n",
       "mean                  NaN             NaN               NaN   \n",
       "std                   NaN             NaN               NaN   \n",
       "min                   NaN             NaN               NaN   \n",
       "25%                   NaN             NaN               NaN   \n",
       "50%                   NaN             NaN               NaN   \n",
       "75%                   NaN             NaN               NaN   \n",
       "max                   NaN             NaN               NaN   \n",
       "\n",
       "       pub_rec_bankruptcies  tax_liens  tot_hi_cred_lim  total_bal_ex_mort  \\\n",
       "count          39020.000000    39678.0              0.0                0.0   \n",
       "mean               0.043260        0.0              NaN                NaN   \n",
       "std                0.204324        0.0              NaN                NaN   \n",
       "min                0.000000        0.0              NaN                NaN   \n",
       "25%                0.000000        0.0              NaN                NaN   \n",
       "50%                0.000000        0.0              NaN                NaN   \n",
       "75%                0.000000        0.0              NaN                NaN   \n",
       "max                2.000000        0.0              NaN                NaN   \n",
       "\n",
       "       total_bc_limit  total_il_high_credit_limit  \n",
       "count             0.0                         0.0  \n",
       "mean              NaN                         NaN  \n",
       "std               NaN                         NaN  \n",
       "min               NaN                         NaN  \n",
       "25%               NaN                         NaN  \n",
       "50%               NaN                         NaN  \n",
       "75%               NaN                         NaN  \n",
       "max               NaN                         NaN  \n",
       "\n",
       "[8 rows x 87 columns]"
      ]
     },
     "execution_count": 141,
     "metadata": {},
     "output_type": "execute_result"
    }
   ],
   "source": [
    "loan_df.describe()"
   ]
  },
  {
   "cell_type": "code",
   "execution_count": 142,
   "id": "60aaa74a-82d5-409d-b7d8-b9ec0b5565d0",
   "metadata": {},
   "outputs": [
    {
     "data": {
      "text/plain": [
       "(39717, 111)"
      ]
     },
     "execution_count": 142,
     "metadata": {},
     "output_type": "execute_result"
    }
   ],
   "source": [
    "loan_df.shape"
   ]
  },
  {
   "cell_type": "markdown",
   "id": "ae08e00f-03f4-4873-beab-98c764ad0226",
   "metadata": {},
   "source": [
    "#### Look like we have 40,000 rows and 111 columns with different datatypes, lets take look at null values"
   ]
  },
  {
   "cell_type": "markdown",
   "id": "2d2c231a-5faa-4c77-9e40-849e1f77fdb2",
   "metadata": {},
   "source": [
    "#### lets take a look at null values"
   ]
  },
  {
   "cell_type": "code",
   "execution_count": 143,
   "id": "0c4013cb-4bfc-42a6-a6f7-da56a4bd38f9",
   "metadata": {},
   "outputs": [
    {
     "data": {
      "text/plain": [
       "emp_title                      2459\n",
       "emp_length                     1075\n",
       "desc                          12942\n",
       "title                            11\n",
       "mths_since_last_delinq        25682\n",
       "                              ...  \n",
       "tax_liens                        39\n",
       "tot_hi_cred_lim               39717\n",
       "total_bal_ex_mort             39717\n",
       "total_bc_limit                39717\n",
       "total_il_high_credit_limit    39717\n",
       "Length: 68, dtype: int64"
      ]
     },
     "execution_count": 143,
     "metadata": {},
     "output_type": "execute_result"
    }
   ],
   "source": [
    "loan_df.isnull().sum()[loan_df.isnull().sum() > 0] "
   ]
  },
  {
   "cell_type": "markdown",
   "id": "255bd69d-0321-4e3f-8df4-dee598c45ca5",
   "metadata": {},
   "source": [
    "Data cleaning checklist\n",
    "1. Fix rows and columns  $\\checkmark$\n",
    "2. Fix missing values\n",
    "3. Standardise values\n",
    "4. Fix invalid values\n",
    "5. Filter data"
   ]
  },
  {
   "cell_type": "markdown",
   "id": "abe6fa89-0d89-421d-911e-ab505d2fa606",
   "metadata": {},
   "source": [
    "#### looks like 68 out of 111 columns have null values, we should remove the null values but it doesn't make sense to remove the entire column just because it has a few null values so we will first remove the columns which are entirely null of 0\n",
    "#### also for object data types"
   ]
  },
  {
   "cell_type": "code",
   "execution_count": 144,
   "id": "a02f562d-c42a-4032-8cc6-7828bbdc8139",
   "metadata": {},
   "outputs": [
    {
     "data": {
      "text/plain": [
       "mths_since_last_major_derog       39717\n",
       "annual_inc_joint                  39717\n",
       "dti_joint                         39717\n",
       "verification_status_joint         39717\n",
       "tot_coll_amt                      39717\n",
       "tot_cur_bal                       39717\n",
       "open_acc_6m                       39717\n",
       "open_il_6m                        39717\n",
       "open_il_12m                       39717\n",
       "open_il_24m                       39717\n",
       "mths_since_rcnt_il                39717\n",
       "total_bal_il                      39717\n",
       "il_util                           39717\n",
       "open_rv_12m                       39717\n",
       "open_rv_24m                       39717\n",
       "max_bal_bc                        39717\n",
       "all_util                          39717\n",
       "total_rev_hi_lim                  39717\n",
       "inq_fi                            39717\n",
       "total_cu_tl                       39717\n",
       "inq_last_12m                      39717\n",
       "acc_open_past_24mths              39717\n",
       "avg_cur_bal                       39717\n",
       "bc_open_to_buy                    39717\n",
       "bc_util                           39717\n",
       "mo_sin_old_il_acct                39717\n",
       "mo_sin_old_rev_tl_op              39717\n",
       "mo_sin_rcnt_rev_tl_op             39717\n",
       "mo_sin_rcnt_tl                    39717\n",
       "mort_acc                          39717\n",
       "mths_since_recent_bc              39717\n",
       "mths_since_recent_bc_dlq          39717\n",
       "mths_since_recent_inq             39717\n",
       "mths_since_recent_revol_delinq    39717\n",
       "num_accts_ever_120_pd             39717\n",
       "num_actv_bc_tl                    39717\n",
       "num_actv_rev_tl                   39717\n",
       "num_bc_sats                       39717\n",
       "num_bc_tl                         39717\n",
       "num_il_tl                         39717\n",
       "num_op_rev_tl                     39717\n",
       "num_rev_accts                     39717\n",
       "num_rev_tl_bal_gt_0               39717\n",
       "num_sats                          39717\n",
       "num_tl_120dpd_2m                  39717\n",
       "num_tl_30dpd                      39717\n",
       "num_tl_90g_dpd_24m                39717\n",
       "num_tl_op_past_12m                39717\n",
       "pct_tl_nvr_dlq                    39717\n",
       "percent_bc_gt_75                  39717\n",
       "tot_hi_cred_lim                   39717\n",
       "total_bal_ex_mort                 39717\n",
       "total_bc_limit                    39717\n",
       "total_il_high_credit_limit        39717\n",
       "dtype: int64"
      ]
     },
     "execution_count": 144,
     "metadata": {},
     "output_type": "execute_result"
    }
   ],
   "source": [
    "loan_df.isnull().sum()[loan_df.isnull().sum() == len(loan_df)]"
   ]
  },
  {
   "cell_type": "code",
   "execution_count": 145,
   "id": "fc1d8996-3edf-4588-a7d1-33d58ef7c930",
   "metadata": {},
   "outputs": [],
   "source": [
    "loan_df = loan_df.dropna(how='all', axis= 1)"
   ]
  },
  {
   "cell_type": "code",
   "execution_count": 146,
   "id": "976a9f5a-d929-4439-ac5e-0183d923cc27",
   "metadata": {},
   "outputs": [
    {
     "data": {
      "text/plain": [
       "(39717, 57)"
      ]
     },
     "execution_count": 146,
     "metadata": {},
     "output_type": "execute_result"
    }
   ],
   "source": [
    "loan_df.shape"
   ]
  },
  {
   "cell_type": "code",
   "execution_count": 147,
   "id": "9e050f0c-54b4-46ac-b949-59ae0caf972a",
   "metadata": {},
   "outputs": [
    {
     "data": {
      "text/html": [
       "<div>\n",
       "<style scoped>\n",
       "    .dataframe tbody tr th:only-of-type {\n",
       "        vertical-align: middle;\n",
       "    }\n",
       "\n",
       "    .dataframe tbody tr th {\n",
       "        vertical-align: top;\n",
       "    }\n",
       "\n",
       "    .dataframe thead th {\n",
       "        text-align: right;\n",
       "    }\n",
       "</style>\n",
       "<table border=\"1\" class=\"dataframe\">\n",
       "  <thead>\n",
       "    <tr style=\"text-align: right;\">\n",
       "      <th></th>\n",
       "      <th>id</th>\n",
       "      <th>member_id</th>\n",
       "      <th>loan_amnt</th>\n",
       "      <th>funded_amnt</th>\n",
       "      <th>funded_amnt_inv</th>\n",
       "      <th>term</th>\n",
       "      <th>int_rate</th>\n",
       "      <th>installment</th>\n",
       "      <th>grade</th>\n",
       "      <th>sub_grade</th>\n",
       "      <th>...</th>\n",
       "      <th>next_pymnt_d</th>\n",
       "      <th>last_credit_pull_d</th>\n",
       "      <th>collections_12_mths_ex_med</th>\n",
       "      <th>policy_code</th>\n",
       "      <th>application_type</th>\n",
       "      <th>acc_now_delinq</th>\n",
       "      <th>chargeoff_within_12_mths</th>\n",
       "      <th>delinq_amnt</th>\n",
       "      <th>pub_rec_bankruptcies</th>\n",
       "      <th>tax_liens</th>\n",
       "    </tr>\n",
       "  </thead>\n",
       "  <tbody>\n",
       "    <tr>\n",
       "      <th>0</th>\n",
       "      <td>1077501</td>\n",
       "      <td>1296599</td>\n",
       "      <td>5000</td>\n",
       "      <td>5000</td>\n",
       "      <td>4975.0</td>\n",
       "      <td>36 months</td>\n",
       "      <td>10.65%</td>\n",
       "      <td>162.87</td>\n",
       "      <td>B</td>\n",
       "      <td>B2</td>\n",
       "      <td>...</td>\n",
       "      <td>NaN</td>\n",
       "      <td>May-16</td>\n",
       "      <td>0.0</td>\n",
       "      <td>1</td>\n",
       "      <td>INDIVIDUAL</td>\n",
       "      <td>0</td>\n",
       "      <td>0.0</td>\n",
       "      <td>0</td>\n",
       "      <td>0.0</td>\n",
       "      <td>0.0</td>\n",
       "    </tr>\n",
       "    <tr>\n",
       "      <th>1</th>\n",
       "      <td>1077430</td>\n",
       "      <td>1314167</td>\n",
       "      <td>2500</td>\n",
       "      <td>2500</td>\n",
       "      <td>2500.0</td>\n",
       "      <td>60 months</td>\n",
       "      <td>15.27%</td>\n",
       "      <td>59.83</td>\n",
       "      <td>C</td>\n",
       "      <td>C4</td>\n",
       "      <td>...</td>\n",
       "      <td>NaN</td>\n",
       "      <td>Sep-13</td>\n",
       "      <td>0.0</td>\n",
       "      <td>1</td>\n",
       "      <td>INDIVIDUAL</td>\n",
       "      <td>0</td>\n",
       "      <td>0.0</td>\n",
       "      <td>0</td>\n",
       "      <td>0.0</td>\n",
       "      <td>0.0</td>\n",
       "    </tr>\n",
       "    <tr>\n",
       "      <th>2</th>\n",
       "      <td>1077175</td>\n",
       "      <td>1313524</td>\n",
       "      <td>2400</td>\n",
       "      <td>2400</td>\n",
       "      <td>2400.0</td>\n",
       "      <td>36 months</td>\n",
       "      <td>15.96%</td>\n",
       "      <td>84.33</td>\n",
       "      <td>C</td>\n",
       "      <td>C5</td>\n",
       "      <td>...</td>\n",
       "      <td>NaN</td>\n",
       "      <td>May-16</td>\n",
       "      <td>0.0</td>\n",
       "      <td>1</td>\n",
       "      <td>INDIVIDUAL</td>\n",
       "      <td>0</td>\n",
       "      <td>0.0</td>\n",
       "      <td>0</td>\n",
       "      <td>0.0</td>\n",
       "      <td>0.0</td>\n",
       "    </tr>\n",
       "    <tr>\n",
       "      <th>3</th>\n",
       "      <td>1076863</td>\n",
       "      <td>1277178</td>\n",
       "      <td>10000</td>\n",
       "      <td>10000</td>\n",
       "      <td>10000.0</td>\n",
       "      <td>36 months</td>\n",
       "      <td>13.49%</td>\n",
       "      <td>339.31</td>\n",
       "      <td>C</td>\n",
       "      <td>C1</td>\n",
       "      <td>...</td>\n",
       "      <td>NaN</td>\n",
       "      <td>Apr-16</td>\n",
       "      <td>0.0</td>\n",
       "      <td>1</td>\n",
       "      <td>INDIVIDUAL</td>\n",
       "      <td>0</td>\n",
       "      <td>0.0</td>\n",
       "      <td>0</td>\n",
       "      <td>0.0</td>\n",
       "      <td>0.0</td>\n",
       "    </tr>\n",
       "    <tr>\n",
       "      <th>4</th>\n",
       "      <td>1075358</td>\n",
       "      <td>1311748</td>\n",
       "      <td>3000</td>\n",
       "      <td>3000</td>\n",
       "      <td>3000.0</td>\n",
       "      <td>60 months</td>\n",
       "      <td>12.69%</td>\n",
       "      <td>67.79</td>\n",
       "      <td>B</td>\n",
       "      <td>B5</td>\n",
       "      <td>...</td>\n",
       "      <td>Jun-16</td>\n",
       "      <td>May-16</td>\n",
       "      <td>0.0</td>\n",
       "      <td>1</td>\n",
       "      <td>INDIVIDUAL</td>\n",
       "      <td>0</td>\n",
       "      <td>0.0</td>\n",
       "      <td>0</td>\n",
       "      <td>0.0</td>\n",
       "      <td>0.0</td>\n",
       "    </tr>\n",
       "  </tbody>\n",
       "</table>\n",
       "<p>5 rows × 57 columns</p>\n",
       "</div>"
      ],
      "text/plain": [
       "        id  member_id  loan_amnt  funded_amnt  funded_amnt_inv        term  \\\n",
       "0  1077501    1296599       5000         5000           4975.0   36 months   \n",
       "1  1077430    1314167       2500         2500           2500.0   60 months   \n",
       "2  1077175    1313524       2400         2400           2400.0   36 months   \n",
       "3  1076863    1277178      10000        10000          10000.0   36 months   \n",
       "4  1075358    1311748       3000         3000           3000.0   60 months   \n",
       "\n",
       "  int_rate  installment grade sub_grade  ... next_pymnt_d last_credit_pull_d  \\\n",
       "0   10.65%       162.87     B        B2  ...          NaN             May-16   \n",
       "1   15.27%        59.83     C        C4  ...          NaN             Sep-13   \n",
       "2   15.96%        84.33     C        C5  ...          NaN             May-16   \n",
       "3   13.49%       339.31     C        C1  ...          NaN             Apr-16   \n",
       "4   12.69%        67.79     B        B5  ...       Jun-16             May-16   \n",
       "\n",
       "  collections_12_mths_ex_med  policy_code application_type acc_now_delinq  \\\n",
       "0                        0.0            1       INDIVIDUAL              0   \n",
       "1                        0.0            1       INDIVIDUAL              0   \n",
       "2                        0.0            1       INDIVIDUAL              0   \n",
       "3                        0.0            1       INDIVIDUAL              0   \n",
       "4                        0.0            1       INDIVIDUAL              0   \n",
       "\n",
       "  chargeoff_within_12_mths delinq_amnt pub_rec_bankruptcies tax_liens  \n",
       "0                      0.0           0                  0.0       0.0  \n",
       "1                      0.0           0                  0.0       0.0  \n",
       "2                      0.0           0                  0.0       0.0  \n",
       "3                      0.0           0                  0.0       0.0  \n",
       "4                      0.0           0                  0.0       0.0  \n",
       "\n",
       "[5 rows x 57 columns]"
      ]
     },
     "execution_count": 147,
     "metadata": {},
     "output_type": "execute_result"
    }
   ],
   "source": [
    "loan_df.head()"
   ]
  },
  {
   "cell_type": "markdown",
   "id": "5aaec5d3-2ebf-40f1-aa78-bc58c3094fcd",
   "metadata": {},
   "source": [
    "#### Alot of these columns have zero or NA values throughout, it doesn't look like they will be much useful, lets get rid of them aswell"
   ]
  },
  {
   "cell_type": "code",
   "execution_count": 148,
   "id": "81679de8-eb00-4f76-9275-e6808b5f6bec",
   "metadata": {},
   "outputs": [
    {
     "name": "stdout",
     "output_type": "stream",
     "text": [
      "collections_12_mths_ex_med\n",
      "0.0    39661\n",
      "Name: count, dtype: int64\n",
      "acc_now_delinq\n",
      "0    39717\n",
      "Name: count, dtype: int64\n"
     ]
    }
   ],
   "source": [
    "print(loan_df[\"collections_12_mths_ex_med\"].value_counts())\n",
    "print(loan_df[\"acc_now_delinq\"].value_counts())"
   ]
  },
  {
   "cell_type": "code",
   "execution_count": 149,
   "id": "c3918003-bb5f-4cf0-b256-7f47890ceb4f",
   "metadata": {},
   "outputs": [
    {
     "name": "stdout",
     "output_type": "stream",
     "text": [
      "collections_12_mths_ex_med\n",
      "acc_now_delinq\n",
      "chargeoff_within_12_mths\n",
      "delinq_amnt\n",
      "tax_liens\n"
     ]
    }
   ],
   "source": [
    "for col in loan_df.columns:\n",
    "    if loan_df[col].replace(0, np.nan).isna().all():\n",
    "        print(col)\n",
    "        loan_df = loan_df.drop(columns=[col], axis=1)"
   ]
  },
  {
   "cell_type": "code",
   "execution_count": 150,
   "id": "52770e10-cc83-4cff-88b8-7df360d8552d",
   "metadata": {},
   "outputs": [
    {
     "data": {
      "text/plain": [
       "(39717, 52)"
      ]
     },
     "execution_count": 150,
     "metadata": {},
     "output_type": "execute_result"
    }
   ],
   "source": [
    "loan_df.shape"
   ]
  },
  {
   "cell_type": "code",
   "execution_count": 151,
   "id": "7e355125-920e-4e19-bfc7-0b260ae0fcff",
   "metadata": {},
   "outputs": [
    {
     "name": "stdout",
     "output_type": "stream",
     "text": [
      "<class 'pandas.core.frame.DataFrame'>\n",
      "RangeIndex: 39717 entries, 0 to 39716\n",
      "Data columns (total 52 columns):\n",
      " #   Column                   Non-Null Count  Dtype  \n",
      "---  ------                   --------------  -----  \n",
      " 0   id                       39717 non-null  int64  \n",
      " 1   member_id                39717 non-null  int64  \n",
      " 2   loan_amnt                39717 non-null  int64  \n",
      " 3   funded_amnt              39717 non-null  int64  \n",
      " 4   funded_amnt_inv          39717 non-null  float64\n",
      " 5   term                     39717 non-null  object \n",
      " 6   int_rate                 39717 non-null  object \n",
      " 7   installment              39717 non-null  float64\n",
      " 8   grade                    39717 non-null  object \n",
      " 9   sub_grade                39717 non-null  object \n",
      " 10  emp_title                37258 non-null  object \n",
      " 11  emp_length               38642 non-null  object \n",
      " 12  home_ownership           39717 non-null  object \n",
      " 13  annual_inc               39717 non-null  float64\n",
      " 14  verification_status      39717 non-null  object \n",
      " 15  issue_d                  39717 non-null  object \n",
      " 16  loan_status              39717 non-null  object \n",
      " 17  pymnt_plan               39717 non-null  object \n",
      " 18  url                      39717 non-null  object \n",
      " 19  desc                     26775 non-null  object \n",
      " 20  purpose                  39717 non-null  object \n",
      " 21  title                    39706 non-null  object \n",
      " 22  zip_code                 39717 non-null  object \n",
      " 23  addr_state               39717 non-null  object \n",
      " 24  dti                      39717 non-null  float64\n",
      " 25  delinq_2yrs              39717 non-null  int64  \n",
      " 26  earliest_cr_line         39717 non-null  object \n",
      " 27  inq_last_6mths           39717 non-null  int64  \n",
      " 28  mths_since_last_delinq   14035 non-null  float64\n",
      " 29  mths_since_last_record   2786 non-null   float64\n",
      " 30  open_acc                 39717 non-null  int64  \n",
      " 31  pub_rec                  39717 non-null  int64  \n",
      " 32  revol_bal                39717 non-null  int64  \n",
      " 33  revol_util               39667 non-null  object \n",
      " 34  total_acc                39717 non-null  int64  \n",
      " 35  initial_list_status      39717 non-null  object \n",
      " 36  out_prncp                39717 non-null  float64\n",
      " 37  out_prncp_inv            39717 non-null  float64\n",
      " 38  total_pymnt              39717 non-null  float64\n",
      " 39  total_pymnt_inv          39717 non-null  float64\n",
      " 40  total_rec_prncp          39717 non-null  float64\n",
      " 41  total_rec_int            39717 non-null  float64\n",
      " 42  total_rec_late_fee       39717 non-null  float64\n",
      " 43  recoveries               39717 non-null  float64\n",
      " 44  collection_recovery_fee  39717 non-null  float64\n",
      " 45  last_pymnt_d             39646 non-null  object \n",
      " 46  last_pymnt_amnt          39717 non-null  float64\n",
      " 47  next_pymnt_d             1140 non-null   object \n",
      " 48  last_credit_pull_d       39715 non-null  object \n",
      " 49  policy_code              39717 non-null  int64  \n",
      " 50  application_type         39717 non-null  object \n",
      " 51  pub_rec_bankruptcies     39020 non-null  float64\n",
      "dtypes: float64(17), int64(11), object(24)\n",
      "memory usage: 15.8+ MB\n"
     ]
    }
   ],
   "source": [
    "loan_df.info()"
   ]
  },
  {
   "cell_type": "markdown",
   "id": "8178b74b-f9c9-467a-9aa9-4a9c9079e7a7",
   "metadata": {},
   "source": [
    "Columns like id, member_id, url are from transactional database and does not add any doesn't any value or contribute to risk assessment\n",
    "Columns emp_title, issue_d\n",
    "\n",
    "There seems to be a redundancy between, funded_amnt and funded_amnt_inv. Since we are only interested in the funds the were provided by us, we can drop the former.\n",
    "\n",
    "Columns like initial_list_status, collection_recovery_fee, next_pymnt_d carry less significance\n",
    "\n",
    "#### Important for risk analysis:\n",
    "\n",
    "loan_amnt, int_rate, installment, grade, sub_grade: These are directly tied to the loan and risk assessment.\n",
    "\n",
    "emp_title, emp_length, annual_inc: Important for evaluating the borrower's financial stability.\n",
    "\n",
    "home_ownership, verification_status: Useful for understanding the borrower’s financial background.\n",
    "\n",
    "\n",
    "dti (Debt-to-Income Ratio), delinq_2yrs, inq_last_6mths, mths_since_last_delinq, mths_since_last_record: Important metrics for understanding the borrower's creditworthiness and history of delinquencies.\n",
    "\n",
    "open_acc, total_acc, pub_rec, pub_rec_bankruptcies, revol_bal, revol_util: All relate to credit history and available credit, crucial for risk.\n",
    "\n",
    "recoveries, total_pymnt, out_prncp: Payment-related columns that reflect on the borrower’s payment behavior.\n",
    "\n",
    "earliest_cr_line, last_credit_pull_d: Useful for assessing the length of credit history.\n"
   ]
  },
  {
   "cell_type": "code",
   "execution_count": 152,
   "id": "f1f55655-34ba-417e-b334-9856f7b4e55c",
   "metadata": {},
   "outputs": [],
   "source": [
    "loan_df = loan_df.drop([   'id', \n",
    "    'member_id', \n",
    "    'url', \n",
    "    'desc', \n",
    "    'title', \n",
    "    'zip_code', \n",
    "    'policy_code','funded_amnt', 'initial_list_status', 'collection_recovery_fee', 'next_pymnt_d','emp_title',], axis = 1)"
   ]
  },
  {
   "cell_type": "code",
   "execution_count": 153,
   "id": "4120dece-3a76-4144-91f2-401614ac5ad5",
   "metadata": {},
   "outputs": [
    {
     "name": "stdout",
     "output_type": "stream",
     "text": [
      "<class 'pandas.core.frame.DataFrame'>\n",
      "Index: 38595 entries, 0 to 39716\n",
      "Data columns (total 40 columns):\n",
      " #   Column                  Non-Null Count  Dtype  \n",
      "---  ------                  --------------  -----  \n",
      " 0   loan_amnt               38595 non-null  int64  \n",
      " 1   funded_amnt_inv         38595 non-null  float64\n",
      " 2   term                    38595 non-null  object \n",
      " 3   int_rate                38595 non-null  object \n",
      " 4   installment             38595 non-null  float64\n",
      " 5   grade                   38595 non-null  object \n",
      " 6   sub_grade               38595 non-null  object \n",
      " 7   emp_length              38595 non-null  object \n",
      " 8   home_ownership          38595 non-null  object \n",
      " 9   annual_inc              38595 non-null  float64\n",
      " 10  verification_status     38595 non-null  object \n",
      " 11  issue_d                 38595 non-null  object \n",
      " 12  loan_status             38595 non-null  object \n",
      " 13  pymnt_plan              38595 non-null  object \n",
      " 14  purpose                 38595 non-null  object \n",
      " 15  addr_state              38595 non-null  object \n",
      " 16  dti                     38595 non-null  float64\n",
      " 17  delinq_2yrs             38595 non-null  int64  \n",
      " 18  earliest_cr_line        38595 non-null  object \n",
      " 19  inq_last_6mths          38595 non-null  int64  \n",
      " 20  mths_since_last_delinq  13677 non-null  float64\n",
      " 21  mths_since_last_record  2661 non-null   float64\n",
      " 22  open_acc                38595 non-null  int64  \n",
      " 23  pub_rec                 38595 non-null  int64  \n",
      " 24  revol_bal               38595 non-null  int64  \n",
      " 25  revol_util              38595 non-null  object \n",
      " 26  total_acc               38595 non-null  int64  \n",
      " 27  out_prncp               38595 non-null  float64\n",
      " 28  out_prncp_inv           38595 non-null  float64\n",
      " 29  total_pymnt             38595 non-null  float64\n",
      " 30  total_pymnt_inv         38595 non-null  float64\n",
      " 31  total_rec_prncp         38595 non-null  float64\n",
      " 32  total_rec_int           38595 non-null  float64\n",
      " 33  total_rec_late_fee      38595 non-null  float64\n",
      " 34  recoveries              38595 non-null  float64\n",
      " 35  last_pymnt_d            38533 non-null  object \n",
      " 36  last_pymnt_amnt         38595 non-null  float64\n",
      " 37  last_credit_pull_d      38593 non-null  object \n",
      " 38  application_type        38595 non-null  object \n",
      " 39  pub_rec_bankruptcies    37898 non-null  float64\n",
      "dtypes: float64(16), int64(7), object(17)\n",
      "memory usage: 12.1+ MB\n"
     ]
    }
   ],
   "source": [
    "loan_df = loan_df.dropna(subset=['emp_length', 'revol_util'])\n",
    "loan_df.shape\n",
    "loan_df.info(verbose=True)"
   ]
  },
  {
   "cell_type": "code",
   "execution_count": 154,
   "id": "a09f6f86-7bef-4f96-a5d3-df05a97bdb7f",
   "metadata": {},
   "outputs": [
    {
     "data": {
      "text/plain": [
       "(38595, 40)"
      ]
     },
     "execution_count": 154,
     "metadata": {},
     "output_type": "execute_result"
    }
   ],
   "source": [
    "loan_df.shape"
   ]
  },
  {
   "cell_type": "markdown",
   "id": "f9bc7d1e-efb3-4291-9662-ea03f8e14ad9",
   "metadata": {},
   "source": [
    "#### now that we have finalized the columns, lets take look for missing values and standardize the data\n",
    "##### term and interest should  be integer and float"
   ]
  },
  {
   "cell_type": "code",
   "execution_count": 155,
   "id": "a02e204d-1c54-47e4-b13b-459093f371ad",
   "metadata": {},
   "outputs": [],
   "source": [
    "loan_df.term = loan_df.term.apply(lambda x : int(x.replace(\"months\", \"\")))"
   ]
  },
  {
   "cell_type": "code",
   "execution_count": 156,
   "id": "d7cc6fb5-9f11-4fec-aaaa-e5a81b13fc6b",
   "metadata": {},
   "outputs": [],
   "source": [
    "loan_df.int_rate = loan_df.int_rate.apply(lambda x : float(x.replace(\"%\", \"\")))\n"
   ]
  },
  {
   "cell_type": "code",
   "execution_count": 157,
   "id": "e2b5e5a3-2b19-4e0a-af69-88bf3487345e",
   "metadata": {},
   "outputs": [],
   "source": [
    "# There's over a 1000 columns with unknown employment length, it is better to drop them instead of predicting them\n",
    "loan_df.emp_length = loan_df[\"emp_length\"].dropna()\n",
    "# employment length seems to have symbols like + and >\n",
    "# \"10+ years\": Convert to 10 \n",
    "# \"< 1 year\": Convert to 0.5 \n",
    "# \"X years\": Convert to X n\n",
    "\n",
    "\n",
    "\n",
    "def clean_emp_length(emp_len):\n",
    "    if emp_len == \"10+ years\":\n",
    "        return 10\n",
    "    if emp_len == \"< 1 year\":\n",
    "        return 0.5\n",
    "    return int(emp_len.split()[0])\n",
    "\n",
    "loan_df.emp_length = loan_df.emp_length.apply(clean_emp_length)"
   ]
  },
  {
   "cell_type": "code",
   "execution_count": 158,
   "id": "f8fbe8e6",
   "metadata": {},
   "outputs": [],
   "source": [
    "loan_df.sub_grade =  loan_df.sub_grade.apply(lambda x : int(x[-1]))\n",
    "loan_df.earliest_cr_line = loan_df.earliest_cr_line.apply(lambda x : datetime.strptime(x, \"%b-%y\"))\n",
    "loan_df.issue_d = loan_df.issue_d.apply(lambda x : datetime.strptime(x, \"%b-%y\"))\n",
    "loan_df[\"credit_history\"] = loan_df.issue_d - loan_df.earliest_cr_line\n"
   ]
  },
  {
   "cell_type": "code",
   "execution_count": 159,
   "id": "a74da3f4-3800-437f-903f-8bcf19b17af4",
   "metadata": {},
   "outputs": [
    {
     "data": {
      "text/plain": [
       "0"
      ]
     },
     "execution_count": 159,
     "metadata": {},
     "output_type": "execute_result"
    }
   ],
   "source": [
    "# Checking for duplicates\n",
    "loan_df.duplicated().sum()\n",
    "\n"
   ]
  },
  {
   "cell_type": "markdown",
   "id": "f8d07435-c7cb-4b72-b4d7-203a9fbda0db",
   "metadata": {},
   "source": [
    "Now that data is clean enough, lets take figure out the variables that can help us in figuring out if the loan is going to be defaulted"
   ]
  },
  {
   "cell_type": "code",
   "execution_count": 160,
   "id": "0bb0a05e-06e6-41a2-bdaa-16b3f071268e",
   "metadata": {},
   "outputs": [
    {
     "data": {
      "text/html": [
       "<div>\n",
       "<style scoped>\n",
       "    .dataframe tbody tr th:only-of-type {\n",
       "        vertical-align: middle;\n",
       "    }\n",
       "\n",
       "    .dataframe tbody tr th {\n",
       "        vertical-align: top;\n",
       "    }\n",
       "\n",
       "    .dataframe thead th {\n",
       "        text-align: right;\n",
       "    }\n",
       "</style>\n",
       "<table border=\"1\" class=\"dataframe\">\n",
       "  <thead>\n",
       "    <tr style=\"text-align: right;\">\n",
       "      <th></th>\n",
       "      <th>loan_amnt</th>\n",
       "      <th>funded_amnt_inv</th>\n",
       "      <th>term</th>\n",
       "      <th>int_rate</th>\n",
       "      <th>installment</th>\n",
       "      <th>grade</th>\n",
       "      <th>sub_grade</th>\n",
       "      <th>emp_length</th>\n",
       "      <th>home_ownership</th>\n",
       "      <th>annual_inc</th>\n",
       "      <th>...</th>\n",
       "      <th>total_rec_prncp</th>\n",
       "      <th>total_rec_int</th>\n",
       "      <th>total_rec_late_fee</th>\n",
       "      <th>recoveries</th>\n",
       "      <th>last_pymnt_d</th>\n",
       "      <th>last_pymnt_amnt</th>\n",
       "      <th>last_credit_pull_d</th>\n",
       "      <th>application_type</th>\n",
       "      <th>pub_rec_bankruptcies</th>\n",
       "      <th>credit_history</th>\n",
       "    </tr>\n",
       "  </thead>\n",
       "  <tbody>\n",
       "    <tr>\n",
       "      <th>0</th>\n",
       "      <td>5000</td>\n",
       "      <td>4975.0</td>\n",
       "      <td>36</td>\n",
       "      <td>10.65</td>\n",
       "      <td>162.87</td>\n",
       "      <td>B</td>\n",
       "      <td>2</td>\n",
       "      <td>10.0</td>\n",
       "      <td>RENT</td>\n",
       "      <td>24000.0</td>\n",
       "      <td>...</td>\n",
       "      <td>5000.00</td>\n",
       "      <td>863.16</td>\n",
       "      <td>0.00</td>\n",
       "      <td>0.00</td>\n",
       "      <td>Jan-15</td>\n",
       "      <td>171.62</td>\n",
       "      <td>May-16</td>\n",
       "      <td>INDIVIDUAL</td>\n",
       "      <td>0.0</td>\n",
       "      <td>9830 days</td>\n",
       "    </tr>\n",
       "    <tr>\n",
       "      <th>1</th>\n",
       "      <td>2500</td>\n",
       "      <td>2500.0</td>\n",
       "      <td>60</td>\n",
       "      <td>15.27</td>\n",
       "      <td>59.83</td>\n",
       "      <td>C</td>\n",
       "      <td>4</td>\n",
       "      <td>0.5</td>\n",
       "      <td>RENT</td>\n",
       "      <td>30000.0</td>\n",
       "      <td>...</td>\n",
       "      <td>456.46</td>\n",
       "      <td>435.17</td>\n",
       "      <td>0.00</td>\n",
       "      <td>117.08</td>\n",
       "      <td>Apr-13</td>\n",
       "      <td>119.66</td>\n",
       "      <td>Sep-13</td>\n",
       "      <td>INDIVIDUAL</td>\n",
       "      <td>0.0</td>\n",
       "      <td>4627 days</td>\n",
       "    </tr>\n",
       "    <tr>\n",
       "      <th>2</th>\n",
       "      <td>2400</td>\n",
       "      <td>2400.0</td>\n",
       "      <td>36</td>\n",
       "      <td>15.96</td>\n",
       "      <td>84.33</td>\n",
       "      <td>C</td>\n",
       "      <td>5</td>\n",
       "      <td>10.0</td>\n",
       "      <td>RENT</td>\n",
       "      <td>12252.0</td>\n",
       "      <td>...</td>\n",
       "      <td>2400.00</td>\n",
       "      <td>605.67</td>\n",
       "      <td>0.00</td>\n",
       "      <td>0.00</td>\n",
       "      <td>Jun-14</td>\n",
       "      <td>649.91</td>\n",
       "      <td>May-16</td>\n",
       "      <td>INDIVIDUAL</td>\n",
       "      <td>0.0</td>\n",
       "      <td>3682 days</td>\n",
       "    </tr>\n",
       "    <tr>\n",
       "      <th>3</th>\n",
       "      <td>10000</td>\n",
       "      <td>10000.0</td>\n",
       "      <td>36</td>\n",
       "      <td>13.49</td>\n",
       "      <td>339.31</td>\n",
       "      <td>C</td>\n",
       "      <td>1</td>\n",
       "      <td>10.0</td>\n",
       "      <td>RENT</td>\n",
       "      <td>49200.0</td>\n",
       "      <td>...</td>\n",
       "      <td>10000.00</td>\n",
       "      <td>2214.92</td>\n",
       "      <td>16.97</td>\n",
       "      <td>0.00</td>\n",
       "      <td>Jan-15</td>\n",
       "      <td>357.48</td>\n",
       "      <td>Apr-16</td>\n",
       "      <td>INDIVIDUAL</td>\n",
       "      <td>0.0</td>\n",
       "      <td>5782 days</td>\n",
       "    </tr>\n",
       "    <tr>\n",
       "      <th>4</th>\n",
       "      <td>3000</td>\n",
       "      <td>3000.0</td>\n",
       "      <td>60</td>\n",
       "      <td>12.69</td>\n",
       "      <td>67.79</td>\n",
       "      <td>B</td>\n",
       "      <td>5</td>\n",
       "      <td>1.0</td>\n",
       "      <td>RENT</td>\n",
       "      <td>80000.0</td>\n",
       "      <td>...</td>\n",
       "      <td>2475.94</td>\n",
       "      <td>1037.39</td>\n",
       "      <td>0.00</td>\n",
       "      <td>0.00</td>\n",
       "      <td>May-16</td>\n",
       "      <td>67.79</td>\n",
       "      <td>May-16</td>\n",
       "      <td>INDIVIDUAL</td>\n",
       "      <td>0.0</td>\n",
       "      <td>5813 days</td>\n",
       "    </tr>\n",
       "  </tbody>\n",
       "</table>\n",
       "<p>5 rows × 41 columns</p>\n",
       "</div>"
      ],
      "text/plain": [
       "   loan_amnt  funded_amnt_inv  term  int_rate  installment grade  sub_grade  \\\n",
       "0       5000           4975.0    36     10.65       162.87     B          2   \n",
       "1       2500           2500.0    60     15.27        59.83     C          4   \n",
       "2       2400           2400.0    36     15.96        84.33     C          5   \n",
       "3      10000          10000.0    36     13.49       339.31     C          1   \n",
       "4       3000           3000.0    60     12.69        67.79     B          5   \n",
       "\n",
       "   emp_length home_ownership  annual_inc  ... total_rec_prncp total_rec_int  \\\n",
       "0        10.0           RENT     24000.0  ...         5000.00        863.16   \n",
       "1         0.5           RENT     30000.0  ...          456.46        435.17   \n",
       "2        10.0           RENT     12252.0  ...         2400.00        605.67   \n",
       "3        10.0           RENT     49200.0  ...        10000.00       2214.92   \n",
       "4         1.0           RENT     80000.0  ...         2475.94       1037.39   \n",
       "\n",
       "  total_rec_late_fee recoveries last_pymnt_d last_pymnt_amnt  \\\n",
       "0               0.00       0.00       Jan-15          171.62   \n",
       "1               0.00     117.08       Apr-13          119.66   \n",
       "2               0.00       0.00       Jun-14          649.91   \n",
       "3              16.97       0.00       Jan-15          357.48   \n",
       "4               0.00       0.00       May-16           67.79   \n",
       "\n",
       "   last_credit_pull_d  application_type pub_rec_bankruptcies  credit_history  \n",
       "0              May-16        INDIVIDUAL                  0.0       9830 days  \n",
       "1              Sep-13        INDIVIDUAL                  0.0       4627 days  \n",
       "2              May-16        INDIVIDUAL                  0.0       3682 days  \n",
       "3              Apr-16        INDIVIDUAL                  0.0       5782 days  \n",
       "4              May-16        INDIVIDUAL                  0.0       5813 days  \n",
       "\n",
       "[5 rows x 41 columns]"
      ]
     },
     "execution_count": 160,
     "metadata": {},
     "output_type": "execute_result"
    }
   ],
   "source": [
    "\n",
    "loan_df.head()"
   ]
  },
  {
   "cell_type": "code",
   "execution_count": 161,
   "id": "0c045a55-8772-4772-9263-a313971efe67",
   "metadata": {},
   "outputs": [],
   "source": [
    "loan_df.home_ownership.value_counts()\n",
    "# There are only 4 records with \"None\" as home ownership, it is better to merge them with \"OTHER\"\n",
    "loan_df.home_ownership = loan_df.home_ownership.replace(\"NONE\", \"OTHER\")"
   ]
  },
  {
   "cell_type": "markdown",
   "id": "bf785394",
   "metadata": {},
   "source": [
    "#### Since we are interested in Defaulters and Fully Paid loans, we can ignore Currently paying loaners"
   ]
  },
  {
   "cell_type": "code",
   "execution_count": 162,
   "id": "adbfffd4",
   "metadata": {},
   "outputs": [],
   "source": [
    "loan_df = loan_df[loan_df['loan_status'] != 'Current']"
   ]
  },
  {
   "cell_type": "markdown",
   "id": "286d8b93",
   "metadata": {},
   "source": [
    "#### Lets handle outliers\n",
    "\n"
   ]
  },
  {
   "cell_type": "code",
   "execution_count": 163,
   "id": "f3583696",
   "metadata": {},
   "outputs": [
    {
     "data": {
      "text/plain": [
       "(37497, 41)"
      ]
     },
     "execution_count": 163,
     "metadata": {},
     "output_type": "execute_result"
    }
   ],
   "source": [
    "loan_df.shape"
   ]
  },
  {
   "cell_type": "code",
   "execution_count": 164,
   "id": "33ccf0a6",
   "metadata": {},
   "outputs": [
    {
     "data": {
      "text/plain": [
       "loan_amnt                     0\n",
       "funded_amnt_inv               0\n",
       "term                          0\n",
       "int_rate                      0\n",
       "installment                   0\n",
       "grade                         0\n",
       "sub_grade                     0\n",
       "emp_length                    0\n",
       "home_ownership                0\n",
       "annual_inc                    0\n",
       "verification_status           0\n",
       "issue_d                       0\n",
       "loan_status                   0\n",
       "pymnt_plan                    0\n",
       "purpose                       0\n",
       "addr_state                    0\n",
       "dti                           0\n",
       "delinq_2yrs                   0\n",
       "earliest_cr_line              0\n",
       "inq_last_6mths                0\n",
       "mths_since_last_delinq    24172\n",
       "mths_since_last_record    34878\n",
       "open_acc                      0\n",
       "pub_rec                       0\n",
       "revol_bal                     0\n",
       "revol_util                    0\n",
       "total_acc                     0\n",
       "out_prncp                     0\n",
       "out_prncp_inv                 0\n",
       "total_pymnt                   0\n",
       "total_pymnt_inv               0\n",
       "total_rec_prncp               0\n",
       "total_rec_int                 0\n",
       "total_rec_late_fee            0\n",
       "recoveries                    0\n",
       "last_pymnt_d                 62\n",
       "last_pymnt_amnt               0\n",
       "last_credit_pull_d            2\n",
       "application_type              0\n",
       "pub_rec_bankruptcies        697\n",
       "credit_history                0\n",
       "dtype: int64"
      ]
     },
     "execution_count": 164,
     "metadata": {},
     "output_type": "execute_result"
    }
   ],
   "source": [
    "loan_df.isna().sum()"
   ]
  },
  {
   "cell_type": "code",
   "execution_count": 165,
   "id": "29a54d8f",
   "metadata": {},
   "outputs": [
    {
     "data": {
      "text/plain": [
       "24172"
      ]
     },
     "execution_count": 165,
     "metadata": {},
     "output_type": "execute_result"
    }
   ],
   "source": [
    "loan_df.mths_since_last_delinq.isna().sum()"
   ]
  },
  {
   "cell_type": "code",
   "execution_count": null,
   "id": "8df80946",
   "metadata": {},
   "outputs": [],
   "source": []
  },
  {
   "cell_type": "markdown",
   "id": "1a44ff5d-2ef6-4ac3-88ab-8f06aa1a7c81",
   "metadata": {},
   "source": [
    "#### lets take a look at various columns and how are they related to defaulting\n",
    "\n",
    "### 1. Interest Rate: Interest Rate on the loan, (Ordered Category)\n"
   ]
  },
  {
   "cell_type": "code",
   "execution_count": 166,
   "id": "b25b4ca5-6e06-4239-8183-6cc55f4ae14e",
   "metadata": {},
   "outputs": [
    {
     "name": "stdout",
     "output_type": "stream",
     "text": [
      "count    37497.000000\n",
      "mean        11.958772\n",
      "std          3.682062\n",
      "min          5.420000\n",
      "25%          8.940000\n",
      "50%         11.830000\n",
      "75%         14.420000\n",
      "max         24.400000\n",
      "Name: int_rate, dtype: float64\n"
     ]
    },
    {
     "data": {
      "text/plain": [
       "<Axes: ylabel='int_rate'>"
      ]
     },
     "execution_count": 166,
     "metadata": {},
     "output_type": "execute_result"
    },
    {
     "data": {
      "image/png": "[encoded data removed]",
      "text/plain": [
       "<Figure size 640x480 with 1 Axes>"
      ]
     },
     "metadata": {},
     "output_type": "display_data"
    }
   ],
   "source": [
    "print(loan_df[\"int_rate\"].describe())\n",
    "sns.boxplot(y='int_rate', data=loan_df)"
   ]
  },
  {
   "cell_type": "code",
   "execution_count": 167,
   "id": "12846488-6b9b-4b3b-bf88-edf2a1ef15cf",
   "metadata": {},
   "outputs": [
    {
     "data": {
      "text/plain": [
       "<Axes: xlabel='loan_status', ylabel='int_rate'>"
      ]
     },
     "execution_count": 167,
     "metadata": {},
     "output_type": "execute_result"
    },
    {
     "data": {
      "image/png": "[encoded data removed]",
      "text/plain": [
       "<Figure size 640x480 with 1 Axes>"
      ]
     },
     "metadata": {},
     "output_type": "display_data"
    }
   ],
   "source": [
    "# removing outliers from int_rate\n",
    "sns.boxplot(x='loan_status', y='int_rate', data=loan_df[loan_df.int_rate < loan_df[\"int_rate\"].quantile(0.95)])"
   ]
  },
  {
   "cell_type": "code",
   "execution_count": null,
   "id": "ec572f20",
   "metadata": {},
   "outputs": [],
   "source": []
  },
  {
   "cell_type": "markdown",
   "id": "af2faae5-32d8-4223-9b88-d65fbe783ce4",
   "metadata": {},
   "source": [
    "#### Looks like interests rate have a median value of 11.86 with max going up to 24. When grouped by the loan status, it appears the people who defaulted on their loans had median of 13.610000 while who were to able to pay it off had an interest rate of 11.4.\n"
   ]
  },
  {
   "cell_type": "markdown",
   "id": "093ff7dd-cd86-47a6-a514-9f3482bf7858",
   "metadata": {},
   "source": [
    "### 2. Home Ownership: The home ownership status provided by the borrower during registration"
   ]
  },
  {
   "cell_type": "code",
   "execution_count": 168,
   "id": "49b5a823-7d6c-486a-a533-b6bbf34ba540",
   "metadata": {},
   "outputs": [
    {
     "data": {
      "image/png": "[encoded data removed]",
      "text/plain": [
       "<Figure size 640x480 with 1 Axes>"
      ]
     },
     "metadata": {},
     "output_type": "display_data"
    }
   ],
   "source": [
    "\n",
    "# [\"home_ownership\"]\n",
    "defaulters = loan_df[loan_df[\"loan_status\"] == \"Charged Off\"]\n",
    "paid_off = loan_df[loan_df[\"loan_status\"] == \"Fully Paid\"]\n",
    "paid_off['home_ownership'].value_counts().plot(kind='bar')\n",
    "plt.xlabel('Home Ownership')\n",
    "plt.ylabel('Count')\n",
    "plt.title('Home Ownership Distribution')\n",
    "plt.show()\n"
   ]
  },
  {
   "cell_type": "code",
   "execution_count": 169,
   "id": "30a0f314-8362-4715-8f83-5564e59dd811",
   "metadata": {},
   "outputs": [
    {
     "data": {
      "text/plain": [
       "<Axes: xlabel='home_ownership'>"
      ]
     },
     "execution_count": 169,
     "metadata": {},
     "output_type": "execute_result"
    },
    {
     "data": {
      "image/png": "[encoded data removed]",
      "text/plain": [
       "<Figure size 640x480 with 1 Axes>"
      ]
     },
     "metadata": {},
     "output_type": "display_data"
    }
   ],
   "source": [
    "defaulters['home_ownership'].value_counts().plot(kind='bar')\n",
    "defaulters['home_ownership'].value_counts().plot(kind='bar', color='green')"
   ]
  },
  {
   "cell_type": "markdown",
   "id": "829e3676",
   "metadata": {},
   "source": [
    "#### Home ownership does not tell us much about the defaulters. Lets take a look at other variables\n"
   ]
  },
  {
   "cell_type": "markdown",
   "id": "4c5617fc",
   "metadata": {},
   "source": [
    "### 4. Grade and Subgrade: LC assigned loan grade and sub grade"
   ]
  },
  {
   "cell_type": "code",
   "execution_count": 170,
   "id": "a8bcf15f",
   "metadata": {},
   "outputs": [
    {
     "data": {
      "image/png": "[encoded data removed]",
      "text/plain": [
       "<Figure size 640x480 with 1 Axes>"
      ]
     },
     "metadata": {},
     "output_type": "display_data"
    }
   ],
   "source": [
    "# Grade and sub gradfe\n",
    "\n",
    "plt.xticks(rotation=90)\n",
    "plt.bar(defaulters['grade'].value_counts().index, defaulters['grade'].value_counts().values)\n",
    "plt.title('Grade Distribution of Defaulters')\n",
    "plt.show()"
   ]
  },
  {
   "cell_type": "code",
   "execution_count": 171,
   "id": "b8cd3819",
   "metadata": {},
   "outputs": [
    {
     "data": {
      "text/plain": [
       "Text(0.5, 1.0, 'Grade Distribution of Fully Paid')"
      ]
     },
     "execution_count": 171,
     "metadata": {},
     "output_type": "execute_result"
    },
    {
     "data": {
      "image/png": "[encoded data removed]",
      "text/plain": [
       "<Figure size 640x480 with 1 Axes>"
      ]
     },
     "metadata": {},
     "output_type": "display_data"
    }
   ],
   "source": [
    "# loan_df['grade'].value_counts()\n",
    "sns.countplot(x='grade', data=paid_off, order=sorted(paid_off['grade'].unique()), palette='tab20', hue='grade')\n",
    "plt.title('Grade Distribution of Fully Paid')"
   ]
  },
  {
   "cell_type": "code",
   "execution_count": 172,
   "id": "29457454",
   "metadata": {},
   "outputs": [
    {
     "data": {
      "text/plain": [
       "Text(0.5, 1.0, 'Grade Distribution of Defaulters')"
      ]
     },
     "execution_count": 172,
     "metadata": {},
     "output_type": "execute_result"
    },
    {
     "data": {
      "image/png": "[encoded data removed]",
      "text/plain": [
       "<Figure size 640x480 with 1 Axes>"
      ]
     },
     "metadata": {},
     "output_type": "display_data"
    }
   ],
   "source": [
    "# loan_df['grade'].value_counts()\n",
    "sns.countplot(x='grade', data=defaulters, order=sorted(loan_df['grade'].unique()), palette='tab20', hue='grade')\n",
    "plt.title('Grade Distribution of Defaulters')\n"
   ]
  },
  {
   "cell_type": "code",
   "execution_count": 173,
   "id": "38b51db1",
   "metadata": {},
   "outputs": [
    {
     "data": {
      "text/plain": [
       "Text(0.5, 1.0, 'Sub Grade Distribution of Defaulters')"
      ]
     },
     "execution_count": 173,
     "metadata": {},
     "output_type": "execute_result"
    },
    {
     "data": {
      "image/png": "[encoded data removed]",
      "text/plain": [
       "<Figure size 1200x700 with 1 Axes>"
      ]
     },
     "metadata": {},
     "output_type": "display_data"
    }
   ],
   "source": [
    "\n",
    "fig, ax = plt.subplots(figsize=(12,7))\n",
    "sns.countplot(x='grade', data=defaulters  , hue = \"sub_grade\", order=sorted(loan_df['grade'].unique()), palette=\"tab20\")\n",
    "plt.title('Sub Grade Distribution of Defaulters')"
   ]
  },
  {
   "cell_type": "markdown",
   "id": "a4fac44c",
   "metadata": {},
   "source": [
    "#### Insight: Borrowers in grades B, C, and D, particularly in sub-grades 4 and 5, appear to be at higher risk of defaulting.\n"
   ]
  },
  {
   "cell_type": "markdown",
   "id": "00f03058",
   "metadata": {},
   "source": [
    "#### 5. Verification Status: Indicates if income was verified by LC, not verified, or if the income source was verified"
   ]
  },
  {
   "cell_type": "code",
   "execution_count": 174,
   "id": "4f409042",
   "metadata": {},
   "outputs": [
    {
     "data": {
      "text/plain": [
       "Text(0.5, 1.0, 'Verification Status Distribution of Defaulters')"
      ]
     },
     "execution_count": 174,
     "metadata": {},
     "output_type": "execute_result"
    },
    {
     "data": {
      "image/png": "[encoded data removed]",
      "text/plain": [
       "<Figure size 640x480 with 1 Axes>"
      ]
     },
     "metadata": {},
     "output_type": "display_data"
    }
   ],
   "source": [
    "sns.countplot(x='verification_status', data=defaulters  , order=sorted(loan_df['verification_status'].unique()), palette=\"tab20\", hue='verification_status')\n",
    "plt.title('Verification Status Distribution of Defaulters')"
   ]
  },
  {
   "cell_type": "code",
   "execution_count": 175,
   "id": "7f9df277",
   "metadata": {},
   "outputs": [
    {
     "name": "stdout",
     "output_type": "stream",
     "text": [
      "<class 'pandas.core.frame.DataFrame'>\n",
      "Index: 37497 entries, 0 to 39716\n",
      "Data columns (total 41 columns):\n",
      " #   Column                  Non-Null Count  Dtype          \n",
      "---  ------                  --------------  -----          \n",
      " 0   loan_amnt               37497 non-null  int64          \n",
      " 1   funded_amnt_inv         37497 non-null  float64        \n",
      " 2   term                    37497 non-null  int64          \n",
      " 3   int_rate                37497 non-null  float64        \n",
      " 4   installment             37497 non-null  float64        \n",
      " 5   grade                   37497 non-null  object         \n",
      " 6   sub_grade               37497 non-null  int64          \n",
      " 7   emp_length              37497 non-null  float64        \n",
      " 8   home_ownership          37497 non-null  object         \n",
      " 9   annual_inc              37497 non-null  float64        \n",
      " 10  verification_status     37497 non-null  object         \n",
      " 11  issue_d                 37497 non-null  datetime64[ns] \n",
      " 12  loan_status             37497 non-null  object         \n",
      " 13  pymnt_plan              37497 non-null  object         \n",
      " 14  purpose                 37497 non-null  object         \n",
      " 15  addr_state              37497 non-null  object         \n",
      " 16  dti                     37497 non-null  float64        \n",
      " 17  delinq_2yrs             37497 non-null  int64          \n",
      " 18  earliest_cr_line        37497 non-null  datetime64[ns] \n",
      " 19  inq_last_6mths          37497 non-null  int64          \n",
      " 20  mths_since_last_delinq  13325 non-null  float64        \n",
      " 21  mths_since_last_record  2619 non-null   float64        \n",
      " 22  open_acc                37497 non-null  int64          \n",
      " 23  pub_rec                 37497 non-null  int64          \n",
      " 24  revol_bal               37497 non-null  int64          \n",
      " 25  revol_util              37497 non-null  object         \n",
      " 26  total_acc               37497 non-null  int64          \n",
      " 27  out_prncp               37497 non-null  float64        \n",
      " 28  out_prncp_inv           37497 non-null  float64        \n",
      " 29  total_pymnt             37497 non-null  float64        \n",
      " 30  total_pymnt_inv         37497 non-null  float64        \n",
      " 31  total_rec_prncp         37497 non-null  float64        \n",
      " 32  total_rec_int           37497 non-null  float64        \n",
      " 33  total_rec_late_fee      37497 non-null  float64        \n",
      " 34  recoveries              37497 non-null  float64        \n",
      " 35  last_pymnt_d            37435 non-null  object         \n",
      " 36  last_pymnt_amnt         37497 non-null  float64        \n",
      " 37  last_credit_pull_d      37495 non-null  object         \n",
      " 38  application_type        37497 non-null  object         \n",
      " 39  pub_rec_bankruptcies    36800 non-null  float64        \n",
      " 40  credit_history          37497 non-null  timedelta64[ns]\n",
      "dtypes: datetime64[ns](2), float64(18), int64(9), object(11), timedelta64[ns](1)\n",
      "memory usage: 12.0+ MB\n",
      "None\n"
     ]
    }
   ],
   "source": [
    "\n",
    "print(loan_df.info(verbose=True))"
   ]
  },
  {
   "cell_type": "markdown",
   "id": "7b5dfda9",
   "metadata": {},
   "source": [
    "#### 6. purpose: REquirement  provided by the borrower for the loan request. "
   ]
  },
  {
   "cell_type": "code",
   "execution_count": 176,
   "id": "c123cdb0",
   "metadata": {},
   "outputs": [
    {
     "name": "stderr",
     "output_type": "stream",
     "text": [
      "/var/folders/5z/bffwp3vj43vd66xms_0hx1s40000gp/T/ipykernel_38548/3369004370.py:1: FutureWarning: \n",
      "\n",
      "Passing `palette` without assigning `hue` is deprecated and will be removed in v0.14.0. Assign the `y` variable to `hue` and set `legend=False` for the same effect.\n",
      "\n",
      "  sns.countplot(defaulters['purpose'], palette='tab20')\n"
     ]
    },
    {
     "data": {
      "text/plain": [
       "<Axes: xlabel='count', ylabel='purpose'>"
      ]
     },
     "execution_count": 176,
     "metadata": {},
     "output_type": "execute_result"
    },
    {
     "data": {
      "image/png": "[encoded data removed]",
      "text/plain": [
       "<Figure size 640x480 with 1 Axes>"
      ]
     },
     "metadata": {},
     "output_type": "display_data"
    }
   ],
   "source": [
    "sns.countplot(defaulters['purpose'], palette='tab20')"
   ]
  },
  {
   "cell_type": "markdown",
   "id": "1a54cfe7",
   "metadata": {},
   "source": [
    "The most common loan that defaults is taken for debt consolidation, with significantly more defaulters compared to any other loan purpose. \n",
    "This suggests that borrowers consolidating debt may already be financially stressed"
   ]
  },
  {
   "cell_type": "markdown",
   "id": "35ee752b",
   "metadata": {},
   "source": [
    "#### 6. Credit History: The longer the credit history, the more experience the borrower likely has managing debt. This is a  Derived  Metric and can be calculated by subtracting earliest_cr_line from loan issue date"
   ]
  },
  {
   "cell_type": "code",
   "execution_count": 237,
   "id": "50d2eaff",
   "metadata": {},
   "outputs": [
    {
     "data": {
      "text/plain": [
       "<Axes: xlabel='credit_history_bin', ylabel='count'>"
      ]
     },
     "execution_count": 237,
     "metadata": {},
     "output_type": "execute_result"
    },
    {
     "data": {
      "image/png": "[encoded data removed]",
      "text/plain": [
       "<Figure size 640x480 with 1 Axes>"
      ]
     },
     "metadata": {},
     "output_type": "display_data"
    }
   ],
   "source": [
    "\n",
    "loan_df['credit_history_bin'] = pd.cut(loan_df.credit_history.apply(lambda x : round(x.total_seconds() / (60*60*24*365),1)), labels=labels, bins=bins)\n",
    "# defaulters['credit_history_bin'] = pd.cut(defaulters.credit_history.apply(lambda x : round(x.total_seconds() / (60*60*24*365),1)), labels=labels, bins=bins)\n",
    "sns.countplot(data=loan_df, x='credit_history_bin', hue='loan_status')"
   ]
  },
  {
   "cell_type": "markdown",
   "id": "3c692915",
   "metadata": {},
   "source": [
    "#### Insights: Most borrowers fall into the 10-15 and 5-10 years of credit history range. Borrowers with less experience handling credit i.e 0-15 years are more likely to default than seasoned borrowoeres i.e 30-40 years of experience.\n"
   ]
  }
 ],
 "metadata": {
  "kernelspec": {
   "display_name": "Python 3 (ipykernel)",
   "language": "python",
   "name": "python3"
  },
  "language_info": {
   "codemirror_mode": {
    "name": "ipython",
    "version": 3
   },
   "file_extension": ".py",
   "mimetype": "text/x-python",
   "name": "python",
   "nbconvert_exporter": "python",
   "pygments_lexer": "ipython3",
   "version": "3.9.6"
  }
 },
 "nbformat": 4,
 "nbformat_minor": 5
}
